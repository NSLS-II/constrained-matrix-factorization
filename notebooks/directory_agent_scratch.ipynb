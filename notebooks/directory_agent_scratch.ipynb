{
 "cells": [
  {
   "cell_type": "code",
   "execution_count": null,
   "metadata": {},
   "outputs": [],
   "source": [
    "import sys\n",
    "sys.path.append('../')"
   ]
  },
  {
   "cell_type": "code",
   "execution_count": null,
   "metadata": {},
   "outputs": [],
   "source": [
    "from deepnmf.companion.agent import DirectoryAgent"
   ]
  },
  {
   "cell_type": "code",
   "execution_count": null,
   "metadata": {},
   "outputs": [],
   "source": [
    "da = DirectoryAgent('../data/live/', \n",
    "                    n_components=3, \n",
    "                    data_spec=\"*.sq\", \n",
    "                    x_lim=(1,10), \n",
    "                    header=0, \n",
    "                    figsize=(18,5), \n",
    "                    component_dir='../data/fixed_components',\n",
    "                    #file_ordering=lambda x: x.split('-')[1].split('_')[0],\n",
    "                    #mode=\"Deconvolutional\",\n",
    "                    #kernel_width=20, \n",
    "                    max_iter=50000,\n",
    "                    alpha=0.5)"
   ]
  },
  {
   "cell_type": "code",
   "execution_count": null,
   "metadata": {
    "pycharm": {
     "name": "#%%\n"
    }
   },
   "outputs": [],
   "source": [
    "da.spin(sleep_delay=2.0, timeout=None)"
   ]
  }
 ],
 "metadata": {
  "kernelspec": {
   "display_name": "Python 3",
   "language": "python",
   "name": "python3"
  },
  "language_info": {
   "codemirror_mode": {
    "name": "ipython",
    "version": 3
   },
   "file_extension": ".py",
   "mimetype": "text/x-python",
   "name": "python",
   "nbconvert_exporter": "python",
   "pygments_lexer": "ipython3",
   "version": "3.7.9"
  }
 },
 "nbformat": 4,
 "nbformat_minor": 4
}