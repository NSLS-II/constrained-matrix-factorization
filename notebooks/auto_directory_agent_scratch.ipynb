{
 "cells": [
  {
   "cell_type": "code",
   "execution_count": null,
   "metadata": {},
   "outputs": [],
   "source": [
    "import sys\n",
    "sys.path.append('../')"
   ]
  },
  {
   "cell_type": "code",
   "execution_count": 2,
   "metadata": {},
   "outputs": [],
   "source": [
    "from deepnmf.companion.agent import AutoDirectoryAgent\n",
    "from deepnmf.companion.nmf import decomposition, example_plot\n",
    "import numpy as np\n",
    "from pathlib import Path"
   ]
  },
  {
   "cell_type": "code",
   "execution_count": 3,
   "metadata": {},
   "outputs": [
    {
     "data": {
      "text/plain": [
       "<Figure size 1296x360 with 0 Axes>"
      ]
     },
     "metadata": {},
     "output_type": "display_data"
    }
   ],
   "source": [
    "da = AutoDirectoryAgent('../data/live/', \n",
    "                    n_components=4, \n",
    "                    data_spec=\"*.sq\", \n",
    "                    x_lim=(1,10), \n",
    "                    header=0, \n",
    "                    figsize=(18,5), \n",
    "                    component_dir='../data/fixed_components',\n",
    "                    #file_ordering=lambda x: x.split('-')[1].split('_')[0],\n",
    "                    #mode=\"Deconvolutional\",\n",
    "                    #kernel_width=20, \n",
    "                    max_iter=500)"
   ]
  },
  {
   "cell_type": "code",
   "execution_count": null,
   "metadata": {},
   "outputs": [
    {
     "name": "stderr",
     "output_type": "stream",
     "text": [
      "/home/pmm/anaconda3/envs/bio/lib/python3.7/site-packages/torch/nn/modules/container.py:434: UserWarning: Setting attributes on ParameterList is not supported.\n",
      "  warnings.warn(\"Setting attributes on ParameterList is not supported.\")\n"
     ]
    }
   ],
   "source": [
    "da.spin(sleep_delay=2.0, timeout=None)"
   ]
  },
  {
   "cell_type": "code",
   "execution_count": null,
   "metadata": {},
   "outputs": [],
   "source": [
    "\n",
    "# Xs = np.array(da.Xs)\n",
    "# Ys = np.array(da.Ys)\n",
    "# sub_X, sub_Y, alphas, components = decomposition(\n",
    "#             Xs,\n",
    "#             Ys,\n",
    "#             q_range=da.x_lim,\n",
    "#             n_components=da.n_components,\n",
    "#             normalize=True,\n",
    "#             initial_components=da.initial_components,\n",
    "#             fix_components=[True for _ in range(len(da.initial_components))],\n",
    "#             **da.decomposition_args\n",
    "\n",
    "#         )"
   ]
  }
 ],
 "metadata": {
  "kernelspec": {
   "display_name": "Python 3",
   "language": "python",
   "name": "python3"
  },
  "language_info": {
   "codemirror_mode": {
    "name": "ipython",
    "version": 3
   },
   "file_extension": ".py",
   "mimetype": "text/x-python",
   "name": "python",
   "nbconvert_exporter": "python",
   "pygments_lexer": "ipython3",
   "version": "3.7.9"
  }
 },
 "nbformat": 4,
 "nbformat_minor": 4
}
